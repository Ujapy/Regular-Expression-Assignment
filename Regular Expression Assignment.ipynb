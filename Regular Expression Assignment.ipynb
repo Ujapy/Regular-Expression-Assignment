{
 "cells": [
  {
   "cell_type": "code",
   "execution_count": 1,
   "metadata": {},
   "outputs": [
    {
     "name": "stdout",
     "output_type": "stream",
     "text": [
      "Ventures\n"
     ]
    }
   ],
   "source": [
    "#This assignment is meant to test my knowledge on Regular Expression\n",
    "\n",
    "import re\n",
    "#Match method\n",
    "test = re.match(r\"Ventures\",\"Ventures Park is the best host and venue to any Cohort or training i've been to.\")\n",
    "print(test.group(0))\n"
   ]
  },
  {
   "cell_type": "code",
   "execution_count": 3,
   "metadata": {},
   "outputs": [
    {
     "name": "stdout",
     "output_type": "stream",
     "text": [
      "MickyBanks\n"
     ]
    }
   ],
   "source": [
    "#Search method\n",
    "test = re.search(r'MickyBanks','I was introduce to the concept of Regular Expression by MickyBanks.')\n",
    "print(test.group(0))"
   ]
  },
  {
   "cell_type": "code",
   "execution_count": 9,
   "metadata": {},
   "outputs": [
    {
     "name": "stdout",
     "output_type": "stream",
     "text": [
      "['one', 'one', 'one']\n",
      "3\n"
     ]
    }
   ],
   "source": [
    "#Findall method\n",
    "test = re.findall(r\"one\",\n",
    "                  'He was saved by one of the security operatives\\\n",
    "                  who was hit by one of the stones thrown in the direction of the APC chairman.')\n",
    "print(test)"
   ]
  },
  {
   "cell_type": "code",
   "execution_count": 6,
   "metadata": {},
   "outputs": [
    {
     "name": "stdout",
     "output_type": "stream",
     "text": [
      "['Be careful when u follow the ', 'asses']\n"
     ]
    }
   ],
   "source": [
    "#Split method\n",
    "test = re.split(r'm','Be careful when you follow the masses')\n",
    "print(test)"
   ]
  },
  {
   "cell_type": "code",
   "execution_count": 7,
   "metadata": {},
   "outputs": [
    {
     "data": {
      "text/plain": [
       "['Hi',\n",
       " ', be careful when you follow the masses because at times the \"m\" in masses is silent.']"
      ]
     },
     "execution_count": 7,
     "metadata": {},
     "output_type": "execute_result"
    }
   ],
   "source": [
    "#Maxsplit method\n",
    "test = re.split(r'm','Him, be careful when you follow the masses because at times the \"m\" in masses is silent.', maxsplit=1)\n",
    "test"
   ]
  },
  {
   "cell_type": "code",
   "execution_count": 8,
   "metadata": {},
   "outputs": [
    {
     "data": {
      "text/plain": [
       "'The word \"f**k\" is not allow on any radio or television station in Nigeria'"
      ]
     },
     "execution_count": 8,
     "metadata": {},
     "output_type": "execute_result"
    }
   ],
   "source": [
    "#sub method\n",
    "test = re.sub(r'uc','**','The word \"fuck\" is not allow on any radio or television station in Nigeria')\n",
    "test\n"
   ]
  },
  {
   "cell_type": "code",
   "execution_count": 10,
   "metadata": {},
   "outputs": [
    {
     "name": "stdout",
     "output_type": "stream",
     "text": [
      "APC has been saying ['change', 'change', 'change'] 3 times\n"
     ]
    }
   ],
   "source": [
    "#Compile method\n",
    "pattern = re.compile('change')\n",
    "test = pattern.findall('Dey promise us change 2011, they no win, 2015 they say change, we mumu believe them.\\\n",
    "                        Their plan for 2019 now na another story, waiting do the change?')\n",
    "print('APC has been saying', test, len(test), 'times')"
   ]
  },
  {
   "cell_type": "code",
   "execution_count": 13,
   "metadata": {},
   "outputs": [
    {
     "name": "stdout",
     "output_type": "stream",
     "text": [
      "['T', 'h', 'e', ' ', 'V', 'e', 'n', 't', 'u', 'r', 'e', 's', ' ', 'P', 'a', 'r', 'k']\n"
     ]
    }
   ],
   "source": [
    "#Separate all the letters in a given string\n",
    "test = re.findall(r'.','The Ventures Park')\n",
    "print(test)"
   ]
  },
  {
   "cell_type": "code",
   "execution_count": 14,
   "metadata": {
    "scrolled": true
   },
   "outputs": [
    {
     "name": "stdout",
     "output_type": "stream",
     "text": [
      "['T', 'h', 'e', 'V', 'e', 'n', 't', 'u', 'r', 'e', 's', 'P', 'a', 'r', 'k']\n"
     ]
    }
   ],
   "source": [
    "#Extract each character excluding spaces this time around with \"\\w\" operator\n",
    "test = re.findall(r'\\w','The Ventures Park')\n",
    "print(test)\n"
   ]
  },
  {
   "cell_type": "code",
   "execution_count": 15,
   "metadata": {},
   "outputs": [
    {
     "name": "stdout",
     "output_type": "stream",
     "text": [
      "['Thanks', '', 'to', '', 'Simon', '', '', 'Ricky', '', '', 'Tosin', '', '', 'MickyBanks', '', 'and', '', 'The', '', 'Doc', '', 'for', '', 'sharing', '', 'their', '', 'Knowledge', '']\n"
     ]
    }
   ],
   "source": [
    "#Extracting each word with the combination of \"\\w\" and (\"*\" or \"+\") operators\n",
    "test = re.findall(r'\\w*','Thanks to Simon, Ricky, Tosin, MickyBanks and The Doc for sharing their Knowledge')\n",
    "print(test)"
   ]
  },
  {
   "cell_type": "code",
   "execution_count": 18,
   "metadata": {},
   "outputs": [
    {
     "name": "stdout",
     "output_type": "stream",
     "text": [
      "['In', 'harmfull', 'sequence', 'Army', 'Alcohol', 'Tobacco', 'DUI', 'BokoHaram', 'PDP', 'APC']\n"
     ]
    }
   ],
   "source": [
    "#Using \"\\w\" and \"+\" to remove spaces \n",
    "test = re.findall(r'\\w+', 'In harmfull sequence: Army, Alcohol, Tobacco, DUI, BokoHaram, PDP, APC')\n",
    "print(test)"
   ]
  },
  {
   "cell_type": "code",
   "execution_count": 39,
   "metadata": {},
   "outputs": [
    {
     "name": "stdout",
     "output_type": "stream",
     "text": [
      "['Kola']\n"
     ]
    }
   ],
   "source": [
    "#hmmm? Return the first Word?\n",
    "test = re.findall(r'^\\w+','Kola Aina is the owner of Ventures Park? kola')\n",
    "print(test)"
   ]
  },
  {
   "cell_type": "code",
   "execution_count": 23,
   "metadata": {},
   "outputs": [
    {
     "data": {
      "text/plain": [
       "['Cohort']"
      ]
     },
     "execution_count": 23,
     "metadata": {},
     "output_type": "execute_result"
    }
   ],
   "source": [
    "#Using the \"$\" operator to return the last word\n",
    "test= re.findall(r'\\w+$','AI6 Saturday Abuja Cohort')\n",
    "test"
   ]
  },
  {
   "cell_type": "code",
   "execution_count": 25,
   "metadata": {},
   "outputs": [
    {
     "name": "stdout",
     "output_type": "stream",
     "text": [
      "['Co', 'mp', 'le', 'is', 'be', 'tt', 'er', 'th', 'an', 'co', 'mp', 'li', 'ca', 'te']\n"
     ]
    }
   ],
   "source": [
    "#Using \"\\w\" to return the  two consecutive characters of each word\n",
    "test = re.findall(r'\\w\\w','Complex is better than complicated.')\n",
    "print(test)"
   ]
  },
  {
   "cell_type": "code",
   "execution_count": 27,
   "metadata": {},
   "outputs": [
    {
     "name": "stdout",
     "output_type": "stream",
     "text": [
      "['Co', 'is', 'be', 'th', 'co']\n"
     ]
    }
   ],
   "source": [
    "#Using \"\\b\" and \"\\w\" to return the first  two  characters of each word\n",
    "test = re.findall(r'\\b\\w.','Complex is better than complicated.')\n",
    "print(test)"
   ]
  },
  {
   "cell_type": "code",
   "execution_count": 30,
   "metadata": {},
   "outputs": [
    {
     "name": "stdout",
     "output_type": "stream",
     "text": [
      "['asdf', 'fjdk', 'afed', 'fjek', 'asdf', 'foo']\n"
     ]
    }
   ],
   "source": [
    "#The power of \"[]\" operator\n",
    "line = 'asdf fjdk;afed,fjek,asdf,foo' # String has multiple delimiters (\";\",\",\",\" \").\n",
    "test = re.split(r'[;,\\s]', line)\n",
    "print(test)\n"
   ]
  },
  {
   "cell_type": "code",
   "execution_count": 36,
   "metadata": {},
   "outputs": [
    {
     "name": "stdout",
     "output_type": "stream",
     "text": [
      "asdf fjdk afed fjek asdf foo\n"
     ]
    }
   ],
   "source": [
    "#Using Sub method\n",
    "line = 'asdf fjdk;afed,fjek,asdf,foo'\n",
    "test = re.sub(r'[;,\\s]',' ',line)\n",
    "print(test)"
   ]
  },
  {
   "cell_type": "code",
   "execution_count": 37,
   "metadata": {},
   "outputs": [
    {
     "name": "stdout",
     "output_type": "stream",
     "text": [
      "['12-05-2007', '11-11-2011', '12-01-2009']\n"
     ]
    }
   ],
   "source": [
    "#\"\\d\" operator\n",
    "test=re.findall(r'\\d{2}-\\d{2}-\\d{4}','Amit 34-3456 12-05-2007, XYZ 56-4532 11-11-2011, ABC 67-8945 12-01-2009')\n",
    "print(test)\n"
   ]
  },
  {
   "cell_type": "code",
   "execution_count": 50,
   "metadata": {},
   "outputs": [
    {
     "name": "stdout",
     "output_type": "stream",
     "text": [
      "[('Noah', 'Emma'), ('Liam', 'Olivia'), ('Mason', 'Sophia'), ('Jacob', 'Isabella'), ('William', 'Ava'), ('Ethan', 'Mia')]\n"
     ]
    }
   ],
   "source": [
    "from textwrap import dedent\n",
    "\n",
    "str = dedent(\"\"\"<tr align=\"center\"><td>1</td> <td>Noah</td> <td>Emma</td></tr>\n",
    "<tr align=\"center\"><td>2</td> <td>Liam</td> <td>Olivia</td></tr>\n",
    "<tr align=\"center\"><td>3</td> <td>Mason</td> <td>Sophia</td></tr>\n",
    "<tr align=\"center\"><td>4</td> <td>Jacob</td> <td>Isabella</td></tr>\n",
    "<tr align=\"center\"><td>5</td> <td>William</td> <td>Ava</td></tr>\n",
    "<tr align=\"center\"><td>6</td> <td>Ethan</td> <td>Mia</td></tr>\n",
    "<tr align=\"center\"><td>7</td> <td HTML>Michael</td> <td>Emily</td></tr>\n",
    "\"\"\")\n",
    "\n",
    "\n",
    "\n",
    "result=re.findall(r'<td>\\w+</td>\\s<td>(\\w+)</td>\\s<td>(\\w+)</td>',str)\n",
    "print(result)\n",
    "\n"
   ]
  },
  {
   "cell_type": "code",
   "execution_count": null,
   "metadata": {},
   "outputs": [],
   "source": []
  }
 ],
 "metadata": {
  "kernelspec": {
   "display_name": "Python 3",
   "language": "python",
   "name": "python3"
  },
  "language_info": {
   "codemirror_mode": {
    "name": "ipython",
    "version": 3
   },
   "file_extension": ".py",
   "mimetype": "text/x-python",
   "name": "python",
   "nbconvert_exporter": "python",
   "pygments_lexer": "ipython3",
   "version": "3.6.4"
  }
 },
 "nbformat": 4,
 "nbformat_minor": 2
}
